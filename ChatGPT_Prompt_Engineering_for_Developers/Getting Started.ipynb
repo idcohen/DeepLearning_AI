{
 "cells": [
  {
   "cell_type": "markdown",
   "id": "61c18e31-ad2b-4938-8187-7998f3bd2c07",
   "metadata": {},
   "source": [
    "#### Getting Started With Text Embeddings"
   ]
  },
  {
   "cell_type": "markdown",
   "id": "00d1bf04-0b63-4238-bef5-609cf5807362",
   "metadata": {},
   "source": [
    "Project environment setup\n",
    "Load credentials and relevant Python Libraries\n",
    "If you were running this notebook locally, you would first install Vertex AI. In this classroom, this is already installed. <br>\n",
    "!pip install google-cloud-aiplatform"
   ]
  },
  {
   "cell_type": "code",
   "execution_count": 2,
   "id": "a987c6aa-c6fb-453a-a41c-1214d1c3f74c",
   "metadata": {},
   "outputs": [
    {
     "ename": "ImportError",
     "evalue": "cannot import name 'authenticate' from 'utils' (/Users/dovcohen/opt/anaconda3/envs/LLM_3.10/lib/python3.10/site-packages/utils/__init__.py)",
     "output_type": "error",
     "traceback": [
      "\u001b[0;31m---------------------------------------------------------------------------\u001b[0m",
      "\u001b[0;31mImportError\u001b[0m                               Traceback (most recent call last)",
      "Cell \u001b[0;32mIn[2], line 1\u001b[0m\n\u001b[0;32m----> 1\u001b[0m \u001b[38;5;28;01mfrom\u001b[39;00m \u001b[38;5;21;01mutils\u001b[39;00m \u001b[38;5;28;01mimport\u001b[39;00m authenticate\n\u001b[1;32m      2\u001b[0m credentials, PROJECT_ID \u001b[38;5;241m=\u001b[39m authenticate()\n",
      "\u001b[0;31mImportError\u001b[0m: cannot import name 'authenticate' from 'utils' (/Users/dovcohen/opt/anaconda3/envs/LLM_3.10/lib/python3.10/site-packages/utils/__init__.py)"
     ]
    }
   ],
   "source": [
    "from utils import authenticate\n",
    "credentials, PROJECT_ID = authenticate() # Get credentials and project ID"
   ]
  },
  {
   "cell_type": "code",
   "execution_count": 1,
   "id": "d7c592b3-f4ce-400a-b561-26e30fd900a7",
   "metadata": {},
   "outputs": [
    {
     "name": "stdout",
     "output_type": "stream",
     "text": [
      "Collecting utils\n",
      "  Downloading utils-1.0.1-py2.py3-none-any.whl (21 kB)\n",
      "Installing collected packages: utils\n",
      "Successfully installed utils-1.0.1\n"
     ]
    }
   ],
   "source": [
    "! pip install utils"
   ]
  },
  {
   "cell_type": "code",
   "execution_count": null,
   "id": "aa6a4156-6fe4-4ac2-bb0a-dfe18d3d47c8",
   "metadata": {},
   "outputs": [],
   "source": [
    "REGION = 'us-central1'\n",
    "# Import and initialize the Vertex AI Python SDK\n",
    "\n",
    "import vertexai\n",
    "vertexai.init(project = PROJECT_ID, \n",
    "              location = REGION, \n",
    "              credentials = credentials)"
   ]
  },
  {
   "cell_type": "markdown",
   "id": "2c2f2f5c-e3d8-4f3d-a22e-8c52a385ad3f",
   "metadata": {},
   "source": [
    "Use the embeddings model <br>\n",
    "Import and load the model."
   ]
  },
  {
   "cell_type": "code",
   "execution_count": null,
   "id": "2a02df52-22c7-41a2-929a-aa3fc4b29055",
   "metadata": {},
   "outputs": [],
   "source": [
    "from vertexai.language_models import TextEmbeddingModel\n",
    "embedding_model = TextEmbeddingModel.from_pretrained(\n",
    "    \"textembedding-gecko@001\")"
   ]
  },
  {
   "cell_type": "markdown",
   "id": "fd1d5420-7695-4cd9-93f8-1e11b62dab23",
   "metadata": {},
   "source": [
    "Generate Word embedding"
   ]
  },
  {
   "cell_type": "code",
   "execution_count": null,
   "id": "8eeef3e1-e1cc-4230-84d7-ae0ae3df6807",
   "metadata": {},
   "outputs": [],
   "source": [
    "embedding = embedding_model.get_embeddings(\n",
    "    [\"life\"])"
   ]
  },
  {
   "cell_type": "markdown",
   "id": "b2ca3695-e591-4927-86d9-577f2baa3647",
   "metadata": {},
   "source": [
    "The returned object is a list with a single TextEmbedding object.\n",
    "The TextEmbedding.values field stores the embeddings in a Python list."
   ]
  },
  {
   "cell_type": "code",
   "execution_count": 3,
   "id": "29d61113-478d-4512-929f-a8dea715f244",
   "metadata": {},
   "outputs": [
    {
     "ename": "NameError",
     "evalue": "name 'embedding' is not defined",
     "output_type": "error",
     "traceback": [
      "\u001b[0;31m---------------------------------------------------------------------------\u001b[0m",
      "\u001b[0;31mNameError\u001b[0m                                 Traceback (most recent call last)",
      "Cell \u001b[0;32mIn[3], line 1\u001b[0m\n\u001b[0;32m----> 1\u001b[0m vector \u001b[38;5;241m=\u001b[39m \u001b[43membedding\u001b[49m[\u001b[38;5;241m0\u001b[39m]\u001b[38;5;241m.\u001b[39mvalues\n\u001b[1;32m      2\u001b[0m \u001b[38;5;28mprint\u001b[39m(\u001b[38;5;124mf\u001b[39m\u001b[38;5;124m\"\u001b[39m\u001b[38;5;124mLength = \u001b[39m\u001b[38;5;132;01m{\u001b[39;00m\u001b[38;5;28mlen\u001b[39m(vector)\u001b[38;5;132;01m}\u001b[39;00m\u001b[38;5;124m\"\u001b[39m)\n\u001b[1;32m      3\u001b[0m \u001b[38;5;28mprint\u001b[39m(vector[:\u001b[38;5;241m10\u001b[39m])\n",
      "\u001b[0;31mNameError\u001b[0m: name 'embedding' is not defined"
     ]
    }
   ],
   "source": [
    "vector = embedding[0].values\n",
    "print(f\"Length = {len(vector)}\")\n",
    "print(vector[:10])"
   ]
  },
  {
   "cell_type": "markdown",
   "id": "4daf99d2-2cb3-4021-be33-46fad1eac264",
   "metadata": {},
   "source": [
    "Sentence Embedding"
   ]
  },
  {
   "cell_type": "code",
   "execution_count": null,
   "id": "eafffa75-bd93-41c7-978a-1c01f4d68f3e",
   "metadata": {},
   "outputs": [],
   "source": [
    "embedding = embedding_model.get_embeddings(\n",
    "    [\"What is the meaning of life?\"])\n",
    "vector = embedding[0].values\n",
    "print(f\"Length = {len(vector)}\")\n",
    "print(vector[:10])\n"
   ]
  },
  {
   "cell_type": "markdown",
   "id": "8a44c35e-2cda-4371-807f-8c9554e3abb1",
   "metadata": {},
   "source": [
    "#### Similarity\n",
    "\n",
    "- Calculate the similarity between two sentences as a number between 0 and 1.\n",
    "- Try out your own sentences and check if the similarity calculations match your intuition."
   ]
  },
  {
   "cell_type": "markdown",
   "id": "ebd10504-4829-45b0-9b3b-7c218d6331b0",
   "metadata": {},
   "source": [
    "- Note: the reason we wrap the embeddings (a Python list) in another list is because the `cosine_similarity` function expects either a 2D numpy array or a list of lists.\n",
    "```Python\n",
    "vec_1 = [emb_1[0].values]\n",
    "```"
   ]
  },
  {
   "cell_type": "code",
   "execution_count": null,
   "id": "c5a7932a-0b7c-4989-9920-b97e8b4e5eff",
   "metadata": {},
   "outputs": [],
   "source": [
    "from sklearn.metrics.pairwise import cosine_similarity\n",
    "emb_1 = embedding_model.get_embeddings(\n",
    "    [\"What is the meaning of life?\"]) # 42!\n",
    "\n",
    "emb_2 = embedding_model.get_embeddings(\n",
    "    [\"How does one spend their time well on Earth?\"])\n",
    "\n",
    "emb_3 = embedding_model.get_embeddings(\n",
    "    [\"Would you like a salad?\"])\n",
    "\n",
    "vec_1 = [emb_1[0].values]\n",
    "vec_2 = [emb_2[0].values]\n",
    "vec_3 = [emb_3[0].values]\n",
    "\n",
    "print(cosine_similarity(vec_1,vec_2)) \n",
    "print(cosine_similarity(vec_2,vec_3))\n",
    "print(cosine_similarity(vec_1,vec_3))\n",
    "\n"
   ]
  },
  {
   "cell_type": "markdown",
   "id": "ea7d7e7f-6303-48d8-bbe5-b625b0056325",
   "metadata": {},
   "source": [
    "#### From word to sentence embeddings\n",
    "- One possible way to calculate sentence embeddings from word embeddings is to take the average of the word embeddings.\n",
    "- This ignores word order and context, so two sentences with different meanings, but the same set of words will end up with the same sentence embedding."
   ]
  },
  {
   "cell_type": "code",
   "execution_count": null,
   "id": "88990222-28df-4c8e-85f4-d29606375848",
   "metadata": {},
   "outputs": [],
   "source": [
    "in_1 = \"The kids play in the park.\"\n",
    "in_2 = \"The play was for kids in the park.\"\n",
    "# remove stop words\n",
    "in_pp_1 = [\"kids\", \"play\", \"park\"]\n",
    "in_pp_2 = [\"play\", \"kids\", \"park\"]\n",
    "\n",
    "# Generate one embedding for each word. So this is a list of three lists.\n",
    "embeddings_1 = [emb.values for emb in embedding_model.get_embeddings(in_pp_1)]\n",
    "\n",
    "# Use numpy to convert this list of lists into a 2D array of 3 rows and 768 columns.\n",
    "import numpy as np\n",
    "emb_array_1 = np.stack(embeddings_1)\n",
    "print(emb_array_1.shape)\n",
    "\n",
    "embeddings_2 = [emb.values for emb in embedding_model.get_embeddings(in_pp_2)]\n",
    "emb_array_2 = np.stack(embeddings_2)\n",
    "print(emb_array_2.shape)\n",
    "\n",
    "\n"
   ]
  },
  {
   "cell_type": "markdown",
   "id": "a34dcf79-a631-469e-93cd-2a82b0798a1a",
   "metadata": {},
   "source": [
    "- Take the average embedding across the 3 word embeddings \n",
    "- You'll get a single embedding of length 768.\n",
    "\n",
    "- Check to see that taking an average of word embeddings results in two sentence embeddings that are identical."
   ]
  },
  {
   "cell_type": "code",
   "execution_count": null,
   "id": "bc894627-dabd-4544-ac75-24c98120fd4a",
   "metadata": {},
   "outputs": [],
   "source": [
    "emb_1_mean = emb_array_1.mean(axis = 0) \n",
    "emb_2_mean = emb_array_2.mean(axis = 0)\n",
    "print(emb_1_mean.shape)\n",
    "print(emb_2_mean.shape)\n"
   ]
  },
  {
   "cell_type": "markdown",
   "id": "883ebcb9-adf8-44ab-bb2b-e532d291910b",
   "metadata": {},
   "source": [
    "#### Get sentence embeddings from the model.\n",
    "- These sentence embeddings account for word order and context.\n",
    "- Verify that the sentence embeddings are not the same."
   ]
  },
  {
   "cell_type": "code",
   "execution_count": null,
   "id": "93becf37-17f3-4f78-8ef9-67aa041d5f38",
   "metadata": {},
   "outputs": [],
   "source": [
    "print(in_1)\n",
    "print(in_2)\n",
    "embedding_1 = embedding_model.get_embeddings([in_1])\n",
    "embedding_2 = embedding_model.get_embeddings([in_2])\n",
    "\n",
    "# note radically different values from the single word embeddings\n",
    "# this accounts for sentence structure differences\n",
    "vector_1 = embedding_1[0].values\n",
    "print(vector_1[:4])\n",
    "vector_2 = embedding_2[0].values\n",
    "print(vector_2[:4])"
   ]
  }
 ],
 "metadata": {
  "kernelspec": {
   "display_name": "Python 3 (ipykernel)",
   "language": "python",
   "name": "python3"
  },
  "language_info": {
   "codemirror_mode": {
    "name": "ipython",
    "version": 3
   },
   "file_extension": ".py",
   "mimetype": "text/x-python",
   "name": "python",
   "nbconvert_exporter": "python",
   "pygments_lexer": "ipython3",
   "version": "3.10.13"
  }
 },
 "nbformat": 4,
 "nbformat_minor": 5
}
